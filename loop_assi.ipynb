{
 "cells": [
  {
   "cell_type": "code",
   "execution_count": 12,
   "id": "6656514d-e4b7-47cb-820e-40a9d3a98f17",
   "metadata": {},
   "outputs": [
    {
     "name": "stdout",
     "output_type": "stream",
     "text": [
      "Iterating for loop 10 times\n",
      "1\n",
      "2\n",
      "3\n",
      "4\n",
      "5\n",
      "6\n",
      "7\n",
      "8\n",
      "9\n",
      "10\n",
      "Using while loop:-\n"
     ]
    },
    {
     "name": "stdin",
     "output_type": "stream",
     "text": [
      "Enter a number:  345\n"
     ]
    },
    {
     "name": "stdout",
     "output_type": "stream",
     "text": [
      "welocme to coding world\n"
     ]
    }
   ],
   "source": [
    "#Qus1:- Explain with an example each when to use a for loop and a while loop.\n",
    "\n",
    "\"\"\"Ans:-1 For Loop:-Use a for loop when you know the number of times you want to \n",
    "iterate through a block of code. For loops are especially useful when you have a specific range or\n",
    "collection of elements to iterate over\"\"\"\n",
    "# Printing numbers from 1 to 10 using a for loop in Python:\n",
    "print(\"Iterating for loop 10 times\")\n",
    "for i in range(1,11):\n",
    "    print(i)\n",
    "    \n",
    "\"\"\"While Loop:-Use a while loop when you want to repeat a block of code as long as a certain condition \n",
    "is true. While loops are handy when you don't know in advance how many times the loop will run.\"\"\"\n",
    "#Repeatedly asking the user for input until they enter a valid number in Python\n",
    "\n",
    "valid_input=False\n",
    "while not valid_input:\n",
    "    print(\"Using while loop:-\")\n",
    "    user_input=input(\"Enter a number: \")\n",
    "    if user_input.isdigit():\n",
    "        print(\"welocme to coding world\")\n",
    "        valid_input=True\n",
    "    else:\n",
    "        print(\"Invalid input. Please enter valid number.\")"
   ]
  },
  {
   "cell_type": "code",
   "execution_count": 37,
   "id": "b887c339-1797-44c8-a055-41880d818aa5",
   "metadata": {},
   "outputs": [
    {
     "name": "stdout",
     "output_type": "stream",
     "text": [
      "First 10 Natural numbers: \n",
      "1\n",
      "2\n",
      "3\n",
      "4\n",
      "5\n",
      "6\n",
      "7\n",
      "8\n",
      "9\n",
      "10\n",
      "Sum of First  10 Natural numbers:  55\n",
      "Product of First 10 Natural numbers:  3628800\n"
     ]
    }
   ],
   "source": [
    "#Qus:-2  Write a python program to print the sum and product of the first 10 natural numbers using for and while loop.\n",
    "\n",
    "#sum and product of the first 10 natural numbers using for loop\n",
    "sum_of_no=0\n",
    "product_of_no=1\n",
    "print(\"First 10 Natural numbers: \")\n",
    "for i in range(1,11):\n",
    "    print(i)\n",
    "    sum_of_no+=i\n",
    "    product_of_no*=i\n",
    "print(\"Sum of First  10 Natural numbers: \",sum_of_no)\n",
    "print(\"Product of First 10 Natural numbers: \",product_of_no)\n",
    "    "
   ]
  },
  {
   "cell_type": "code",
   "execution_count": 36,
   "id": "ae518d20-463d-4fa7-b285-41f4fe6c1abf",
   "metadata": {},
   "outputs": [
    {
     "name": "stdout",
     "output_type": "stream",
     "text": [
      "First 10 Natural numbers\n",
      "1\n",
      "2\n",
      "3\n",
      "4\n",
      "5\n",
      "6\n",
      "7\n",
      "8\n",
      "9\n",
      "10\n",
      "Sum of First 10 Natural numbers:  55\n",
      "Product of First 10 Natural numbers:  3628800\n"
     ]
    }
   ],
   "source": [
    "#sum and product of first 10 natural  numbers by using while loop\n",
    "sum_of_numbers=0\n",
    "product_of_numbers=1\n",
    "counter=1\n",
    "print(\"First 10 Natural numbers\")\n",
    "while(counter<=10):\n",
    "    print(counter)\n",
    "    sum_of_numbers+=counter\n",
    "    product_of_numbers*=counter\n",
    "    counter+=1\n",
    "print(\"Sum of First 10 Natural numbers: \",sum_of_numbers)\n",
    "print(\"Product of First 10 Natural numbers: \",product_of_numbers)  \n",
    "    "
   ]
  },
  {
   "cell_type": "code",
   "execution_count": 46,
   "id": "aa861720-7b40-49c8-ae4f-c6c38dfcc36b",
   "metadata": {},
   "outputs": [
    {
     "name": "stdin",
     "output_type": "stream",
     "text": [
      "Enter units of electricity consumed in a month:-   200\n"
     ]
    },
    {
     "name": "stdout",
     "output_type": "stream",
     "text": [
      "Your electricity bill is Rs. 1050.00\n"
     ]
    }
   ],
   "source": [
    "'''Q3. Create a python program to compute the electricity bill for a household.\n",
    "\n",
    "Q4. Create a list of numbers from 1 to 100. Use for loop and while loop to calculate the cube of each\n",
    "number and if the cube of that number is divisible by 4 or 5 then append that number in a list and print\n",
    "that list.\n",
    "The per-unit charges in rupees are as follows: For the first 100 units, the user will be charged Rs. 4.5 per\n",
    "unit, for the next 100 units, the user will be charged Rs. 6 per unit, and for the next 100 units, the user will\n",
    "be charged Rs. 10 per unit, After 300 units and above the user will be charged Rs. 20 per unit.'''\n",
    "\n",
    "\n",
    "\"\"\"Ans:-3 \"\"\"\n",
    "#input total bill units consumed\n",
    "unit_consumed=float(input(\"Enter units of electricity consumed in a month:-  \"))\n",
    "# Initialize variable for charges\n",
    "total_bill=0\n",
    "#  define tarrif Rates\n",
    "rate_1 = 4.5  # Rs. 4.5 per unit for the first 100 units\n",
    "rate_2 = 6.0  # Rs. 6 per unit for the next 100 units\n",
    "rate_3 = 10.0  # Rs. 10 per unit for the next 100 units\n",
    "rate_4 = 20.0  # Rs. 20 per unit for units above 300\n",
    "# Calculate the bill based on the units consumed\n",
    "if unit_consumed<=100:\n",
    "    total_bill=unit_consumed*rate_1\n",
    "elif unit_consumed<=200:\n",
    "    total_bill=(100*rate_1)+((unit_consumed-100)*rate_2)\n",
    "elif unit_consumed<=300:\n",
    "    total_bill=(100*rate_1)+(100*rate_2)+((unit_consumed-200)*rate_3)\n",
    "else:\n",
    "    total_bill=(100*rate_1)+(100*rate_2)+(100*rate_3)+((unit_consumed-300)*rate_4)\n",
    "print(f\"Your electricity bill is Rs. {total_bill:.2f}\")'''Q3. Create a python program to compute the electricity bill for a household.\n",
    "\n",
    "Q4. Create a list of numbers from 1 to 100. Use for loop and while loop to calculate the cube of each\n",
    "number and if the cube of that number is divisible by 4 or 5 then append that number in a list and print\n",
    "that list.\n",
    "The per-unit charges in rupees are as follows: For the first 100 units, the user will be charged Rs. 4.5 per\n",
    "unit, for the next 100 units, the user will be charged Rs. 6 per unit, and for the next 100 units, the user will\n",
    "be charged Rs. 10 per unit, After 300 units and above the user will be charged Rs. 20 per unit.'''"
   ]
  },
  {
   "cell_type": "code",
   "execution_count": 56,
   "id": "fb53aa38-9d1a-417c-b850-db61230115ca",
   "metadata": {},
   "outputs": [
    {
     "name": "stdin",
     "output_type": "stream",
     "text": [
      "Enter the total units consumed:  3455\n"
     ]
    },
    {
     "name": "stdout",
     "output_type": "stream",
     "text": [
      "Your electricity bill is Rs. 15547.50\n"
     ]
    }
   ],
   "source": [
    "'''Qus:-3 Create a python program to compute the electricity bill for a household.\n",
    "\n",
    "The per-unit charges in rupees are as follows: For the first 100 units, the user will be charged Rs. 4.5 per\n",
    "unit, for the next 100 units, the user will be charged Rs. 6 per unit, and for the next 100 units, the user will\n",
    "be charged Rs. 10 per unit, After 300 units and above the user will be charged Rs. 20 per unit.\n",
    "You are required to take the units of electricity consumed in a month from the user as input.\n",
    "Your program must pass this test case: when the unit of electricity consumed by the user in a month is\n",
    "310, the total electricity bill should be 2250.'''\n",
    "\n",
    "# Input the total units consumed\n",
    "units_consumed = int(input(\"Enter the total units consumed: \"))\n",
    "\n",
    "# Initialize variables for charges and units\n",
    "total_bill = 0\n",
    "units_processed = 0\n",
    "\n",
    "# Define tariff rates\n",
    "rate_1 = 4.5  # Rs. 4.5 per unit for the first 100 units\n",
    "rate_2 = 6.0  # Rs. 6 per unit for the next 100 units\n",
    "rate_3 = 10.0  # Rs. 10 per unit for the next 100 units\n",
    "rate_4 = 20.0  # Rs. 20 per unit for units above 300\n",
    "\n",
    "# Calculate the bill based on the units consumed\n",
    "while units_processed < units_consumed:\n",
    "    if units_processed + 100 <= units_consumed:\n",
    "        total_bill += 100 * rate_1\n",
    "        units_processed += 100\n",
    "    elif units_processed + 100 > units_consumed and units_processed < units_consumed:\n",
    "        remaining_units = units_consumed - units_processed\n",
    "        if remaining_units <= 100:\n",
    "            total_bill += remaining_units * rate_1\n",
    "            units_processed += remaining_units\n",
    "        elif remaining_units <= 200:\n",
    "            total_bill += 100 * rate_1 + (remaining_units - 100) * rate_2\n",
    "            units_processed += remaining_units\n",
    "        elif remaining_units <= 300:\n",
    "            total_bill += 100 * rate_1 + 100 * rate_2 + (remaining_units - 200) * rate_3\n",
    "            units_processed += remaining_units\n",
    "        else:\n",
    "            total_bill += 100 * rate_1 + 100 * rate_2 + 100 * rate_3 + (remaining_units - 300) * rate_4\n",
    "            units_processed += remaining_units\n",
    "\n",
    "# Print the total bill\n",
    "print(f\"Your electricity bill is Rs. {total_bill:.2f}\")\n"
   ]
  },
  {
   "cell_type": "code",
   "execution_count": 57,
   "id": "5309563f-8a1e-4797-ad3a-15cef81db159",
   "metadata": {},
   "outputs": [
    {
     "name": "stdout",
     "output_type": "stream",
     "text": [
      "[2, 4, 5, 6, 8, 10, 12, 14, 15, 16, 18, 20, 22, 24, 25, 26, 28, 30, 32, 34, 35, 36, 38, 40, 42, 44, 45, 46, 48, 50, 52, 54, 55, 56, 58, 60, 62, 64, 65, 66, 68, 70, 72, 74, 75, 76, 78, 80, 82, 84, 85, 86, 88, 90, 92, 94, 95, 96, 98, 100]\n"
     ]
    }
   ],
   "source": [
    "#Qus:-4 Create a list of numbers from 1 to 100. Use for loop and while loop to calculate the cube of each\n",
    "#number and if the cube of that number is divisible by 4 or 5 then append that number in a list and print\n",
    "#that list.\n",
    "\"Using for loop\"\n",
    "# Initialize an empty list to store the numbers\n",
    "result_list_for = []\n",
    "\n",
    "# Using a for loop to iterate through numbers from 1 to 100\n",
    "for num in range(1, 101):\n",
    "    cube = num ** 3\n",
    "    if cube % 4 == 0 or cube % 5 == 0:\n",
    "        result_list_for.append(num)\n",
    "\n",
    "# Print the list of numbers whose cubes are divisible by 4 or 5\n",
    "print(result_list_for)\n"
   ]
  },
  {
   "cell_type": "code",
   "execution_count": 58,
   "id": "f9881ebc-f1c2-420d-8144-81184a559840",
   "metadata": {},
   "outputs": [
    {
     "name": "stdout",
     "output_type": "stream",
     "text": [
      "[2, 4, 5, 6, 8, 10, 12, 14, 15, 16, 18, 20, 22, 24, 25, 26, 28, 30, 32, 34, 35, 36, 38, 40, 42, 44, 45, 46, 48, 50, 52, 54, 55, 56, 58, 60, 62, 64, 65, 66, 68, 70, 72, 74, 75, 76, 78, 80, 82, 84, 85, 86, 88, 90, 92, 94, 95, 96, 98, 100]\n"
     ]
    }
   ],
   "source": [
    "\"Using while loop\"\n",
    "# Initialize an empty list to store the numbers\n",
    "result_list_while = []\n",
    "\n",
    "# Initialize a counter\n",
    "num = 1\n",
    "\n",
    "# Using a while loop to iterate through numbers from 1 to 100\n",
    "while num <= 100:\n",
    "    cube = num ** 3\n",
    "    if cube % 4 == 0 or cube % 5 == 0:\n",
    "        result_list_while.append(num)\n",
    "    num += 1\n",
    "\n",
    "# Print the list of numbers whose cubes are divisible by 4 or 5\n",
    "print(result_list_while)\n"
   ]
  },
  {
   "cell_type": "code",
   "execution_count": 55,
   "id": "8aa12a0e-7109-4ce2-9a63-7a94ff677dc5",
   "metadata": {},
   "outputs": [
    {
     "name": "stdout",
     "output_type": "stream",
     "text": [
      "Number of vowels in the string:  12\n"
     ]
    }
   ],
   "source": [
    "'''Qus5:- Write a program to filter count vowels in the below-given string.\n",
    "string = \"I want to become a data scientist\" '''\n",
    "\n",
    "#Ans:-5\n",
    "#INPUT STRING\n",
    "s = \"I want to become a data scientist\"\n",
    "# define set of vowels\n",
    "vowel=\"aeiou\"\n",
    "vowel_count=0\n",
    "# Convert the string to lowercase to handle both uppercase and lowercase vowels and itretaing \n",
    "#counting vowel\n",
    "for char in s.lower():\n",
    "    if char in vowel:\n",
    "        vowel_count+=1\n",
    "    \n",
    "print(\"Number of vowels in the string: \",vowel_count)    \n",
    "    "
   ]
  },
  {
   "cell_type": "code",
   "execution_count": null,
   "id": "99415dcf-2710-4201-b318-f9df8c9ecf18",
   "metadata": {},
   "outputs": [],
   "source": []
  }
 ],
 "metadata": {
  "kernelspec": {
   "display_name": "Python 3 (ipykernel)",
   "language": "python",
   "name": "python3"
  },
  "language_info": {
   "codemirror_mode": {
    "name": "ipython",
    "version": 3
   },
   "file_extension": ".py",
   "mimetype": "text/x-python",
   "name": "python",
   "nbconvert_exporter": "python",
   "pygments_lexer": "ipython3",
   "version": "3.10.6"
  }
 },
 "nbformat": 4,
 "nbformat_minor": 5
}
